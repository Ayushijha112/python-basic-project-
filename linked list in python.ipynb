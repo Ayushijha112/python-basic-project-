{
 "cells": [
  {
   "cell_type": "code",
   "execution_count": 5,
   "metadata": {},
   "outputs": [],
   "source": [
    "class Node:\n",
    "    def __init__(self, data=None, next=None):\n",
    "        self.data = data\n",
    "        self.next = next "
   ]
  },
  {
   "cell_type": "code",
   "execution_count": 8,
   "metadata": {},
   "outputs": [
    {
     "name": "stdout",
     "output_type": "stream",
     "text": [
      "45-->6-->\n"
     ]
    },
    {
     "name": "stderr",
     "output_type": "stream",
     "text": [
      "<>:31: SyntaxWarning: 'NoneType' object is not callable; perhaps you missed a comma?\n",
      "<>:31: SyntaxWarning: 'NoneType' object is not callable; perhaps you missed a comma?\n",
      "<ipython-input-8-07a99f5351fe>:31: SyntaxWarning: 'NoneType' object is not callable; perhaps you missed a comma?\n",
      "  itr.next = None(data, None)\n"
     ]
    }
   ],
   "source": [
    "class LinkedList:\n",
    "    def __init__(self):\n",
    "        self.head = None\n",
    "    \n",
    "    def insert_at_begining(self,data):\n",
    "        node = Node(data, self.head)\n",
    "        self.head = node\n",
    "        \n",
    "    def print(self):\n",
    "        if self.head is None:\n",
    "            print(\"linked list is empty\")\n",
    "            return \n",
    "        \n",
    "        itr = self.head\n",
    "        llstr=''\n",
    "        while itr:\n",
    "            llstr+= str(itr.data)+'-->'\n",
    "            itr = itr.next\n",
    "            \n",
    "        print(llstr)\n",
    "        \n",
    "    def insert_at_end(self, data ):\n",
    "        if self.head is None:\n",
    "            self.head = Node(data, None)\n",
    "            return \n",
    "        \n",
    "        itr = self.head\n",
    "        while itr.next:\n",
    "            itr = itr.next\n",
    "            \n",
    "        itr.next = None(data, None)\n",
    "        \n",
    "    def insert_values(self, data_list):\n",
    "        self.head = None\n",
    "        while itr:\n",
    "            count+=1\n",
    "            itr = itr.next\n",
    "            \n",
    "        return count\n",
    "            \n",
    "            \n",
    "        \n",
    "        \n",
    "if __name__=='__main__':\n",
    "    ll= LinkedList()\n",
    "    ll.insert_at_begining(6)\n",
    "    ll.insert_at_begining(45)\n",
    "    ll.print()\n",
    "    \n",
    "        \n",
    "         "
   ]
  },
  {
   "cell_type": "code",
   "execution_count": 28,
   "metadata": {},
   "outputs": [
    {
     "data": {
      "text/plain": [
       "'list.append(list2)'"
      ]
     },
     "execution_count": 28,
     "metadata": {},
     "output_type": "execute_result"
    }
   ],
   "source": [
    "list=(1,2,3,4,6,5,4,7,8,9)\n",
    "list2=(74,53,54,78)\n",
    "'''list.append(list2)'''\n",
    "\n",
    "\n",
    "\n"
   ]
  },
  {
   "cell_type": "code",
   "execution_count": 34,
   "metadata": {},
   "outputs": [
    {
     "name": "stdout",
     "output_type": "stream",
     "text": [
      "age\n"
     ]
    }
   ],
   "source": [
    "#dictionaries\n",
    "student={'name':'john','age':'23','courses':['arts','hindi']}\n",
    "print(student.get('phone','age'))"
   ]
  },
  {
   "cell_type": "code",
   "execution_count": null,
   "metadata": {},
   "outputs": [],
   "source": []
  }
 ],
 "metadata": {
  "kernelspec": {
   "display_name": "Python 3",
   "language": "python",
   "name": "python3"
  },
  "language_info": {
   "codemirror_mode": {
    "name": "ipython",
    "version": 3
   },
   "file_extension": ".py",
   "mimetype": "text/x-python",
   "name": "python",
   "nbconvert_exporter": "python",
   "pygments_lexer": "ipython3",
   "version": "3.8.8"
  },
  "orig_nbformat": 4
 },
 "nbformat": 4,
 "nbformat_minor": 2
}
